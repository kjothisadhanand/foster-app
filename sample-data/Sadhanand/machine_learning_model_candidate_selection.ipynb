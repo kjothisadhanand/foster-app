{
 "cells": [
  {
   "cell_type": "code",
   "execution_count": 1,
   "metadata": {},
   "outputs": [],
   "source": [
    "import numpy as np\n",
    "import matplotlib.pyplot as plt\n",
    "import pandas as pd\n",
    "import pickle\n",
    "import os"
   ]
  },
  {
   "cell_type": "markdown",
   "metadata": {},
   "source": [
    "# Change Directory to file location"
   ]
  },
  {
   "cell_type": "code",
   "execution_count": 2,
   "metadata": {},
   "outputs": [],
   "source": [
    "os.chdir(r'C:\\Users\\kjsdr\\Documents\\GitHub\\foster-app\\sample-data\\Sadhanand')"
   ]
  },
  {
   "cell_type": "markdown",
   "metadata": {},
   "source": [
    "# Read file content into Pandas DataFrame"
   ]
  },
  {
   "cell_type": "code",
   "execution_count": 3,
   "metadata": {},
   "outputs": [],
   "source": [
    "dataset=pd.read_excel('mavoix_ml_sample_dataset.xlsx')"
   ]
  },
  {
   "cell_type": "markdown",
   "metadata": {},
   "source": [
    "# Have a look at the Data"
   ]
  },
  {
   "cell_type": "code",
   "execution_count": 4,
   "metadata": {},
   "outputs": [
    {
     "name": "stdout",
     "output_type": "stream",
     "text": [
      "<class 'pandas.core.frame.DataFrame'>\n",
      "RangeIndex: 392 entries, 0 to 391\n",
      "Data columns (total 23 columns):\n",
      "Application_ID                392 non-null object\n",
      "Current City                  392 non-null object\n",
      "Python (out of 3)             392 non-null int64\n",
      "R Programming (out of 3)      392 non-null int64\n",
      "Deep Learning (out of 3)      392 non-null int64\n",
      "PHP (out of 3)                392 non-null int64\n",
      "MySQL (out of 3)              392 non-null int64\n",
      "HTML (out of 3)               392 non-null int64\n",
      "CSS (out of 3)                392 non-null int64\n",
      "JavaScript (out of 3)         392 non-null int64\n",
      "AJAX (out of 3)               392 non-null int64\n",
      "Bootstrap (out of 3)          392 non-null int64\n",
      "MongoDB (out of 3)            392 non-null int64\n",
      "Node.js (out of 3)            392 non-null int64\n",
      "ReactJS (out of 3)            392 non-null int64\n",
      "Other skills                  378 non-null object\n",
      "Degree                        380 non-null object\n",
      "Stream                        374 non-null object\n",
      "Current Year Of Graduation    392 non-null int64\n",
      "Performance_PG                103 non-null object\n",
      "Performance_UG                338 non-null object\n",
      "Performance_12                229 non-null object\n",
      "Performance_10                215 non-null object\n",
      "dtypes: int64(14), object(9)\n",
      "memory usage: 70.6+ KB\n"
     ]
    }
   ],
   "source": [
    "dataset.info()"
   ]
  },
  {
   "cell_type": "markdown",
   "metadata": {},
   "source": [
    "# Looks like there are some null values for some of the columns.Need to Check whether all null values have been captured(those marked as N/A in excel file as well).check row for application ID ML16"
   ]
  },
  {
   "cell_type": "code",
   "execution_count": 8,
   "metadata": {},
   "outputs": [
    {
     "data": {
      "text/html": [
       "<div>\n",
       "<style scoped>\n",
       "    .dataframe tbody tr th:only-of-type {\n",
       "        vertical-align: middle;\n",
       "    }\n",
       "\n",
       "    .dataframe tbody tr th {\n",
       "        vertical-align: top;\n",
       "    }\n",
       "\n",
       "    .dataframe thead th {\n",
       "        text-align: right;\n",
       "    }\n",
       "</style>\n",
       "<table border=\"1\" class=\"dataframe\">\n",
       "  <thead>\n",
       "    <tr style=\"text-align: right;\">\n",
       "      <th></th>\n",
       "      <th>Performance_UG</th>\n",
       "      <th>Performance_12</th>\n",
       "    </tr>\n",
       "  </thead>\n",
       "  <tbody>\n",
       "    <tr>\n",
       "      <td>15</td>\n",
       "      <td>8.00/10</td>\n",
       "      <td>NaN</td>\n",
       "    </tr>\n",
       "  </tbody>\n",
       "</table>\n",
       "</div>"
      ],
      "text/plain": [
       "   Performance_UG Performance_12\n",
       "15        8.00/10            NaN"
      ]
     },
     "execution_count": 8,
     "metadata": {},
     "output_type": "execute_result"
    }
   ],
   "source": [
    "id_filt=(dataset['Application_ID']=='ML0016')\n",
    "dataset.loc[id_filt,['Performance_UG','Performance_12']]"
   ]
  },
  {
   "cell_type": "markdown",
   "metadata": {},
   "source": [
    "# check empty space capture.check row for ML0025"
   ]
  },
  {
   "cell_type": "code",
   "execution_count": 9,
   "metadata": {},
   "outputs": [
    {
     "data": {
      "text/html": [
       "<div>\n",
       "<style scoped>\n",
       "    .dataframe tbody tr th:only-of-type {\n",
       "        vertical-align: middle;\n",
       "    }\n",
       "\n",
       "    .dataframe tbody tr th {\n",
       "        vertical-align: top;\n",
       "    }\n",
       "\n",
       "    .dataframe thead th {\n",
       "        text-align: right;\n",
       "    }\n",
       "</style>\n",
       "<table border=\"1\" class=\"dataframe\">\n",
       "  <thead>\n",
       "    <tr style=\"text-align: right;\">\n",
       "      <th></th>\n",
       "      <th>Stream</th>\n",
       "    </tr>\n",
       "  </thead>\n",
       "  <tbody>\n",
       "    <tr>\n",
       "      <td>24</td>\n",
       "      <td>NaN</td>\n",
       "    </tr>\n",
       "  </tbody>\n",
       "</table>\n",
       "</div>"
      ],
      "text/plain": [
       "   Stream\n",
       "24    NaN"
      ]
     },
     "execution_count": 9,
     "metadata": {},
     "output_type": "execute_result"
    }
   ],
   "source": [
    "id_filt=(dataset['Application_ID']=='ML0025')\n",
    "dataset.loc[id_filt,['Stream']]"
   ]
  },
  {
   "cell_type": "markdown",
   "metadata": {},
   "source": [
    "# check percentage of NaN values for each column"
   ]
  },
  {
   "cell_type": "code",
   "execution_count": 10,
   "metadata": {},
   "outputs": [
    {
     "data": {
      "text/plain": [
       "Application_ID                 0.00\n",
       "Current City                   0.00\n",
       "Python (out of 3)              0.00\n",
       "R Programming (out of 3)       0.00\n",
       "Deep Learning (out of 3)       0.00\n",
       "PHP (out of 3)                 0.00\n",
       "MySQL (out of 3)               0.00\n",
       "HTML (out of 3)                0.00\n",
       "CSS (out of 3)                 0.00\n",
       "JavaScript (out of 3)          0.00\n",
       "AJAX (out of 3)                0.00\n",
       "Bootstrap (out of 3)           0.00\n",
       "MongoDB (out of 3)             0.00\n",
       "Node.js (out of 3)             0.00\n",
       "ReactJS (out of 3)             0.00\n",
       "Other skills                   3.57\n",
       "Degree                         3.06\n",
       "Stream                         4.59\n",
       "Current Year Of Graduation     0.00\n",
       "Performance_PG                73.72\n",
       "Performance_UG                13.78\n",
       "Performance_12                41.58\n",
       "Performance_10                45.15\n",
       "dtype: float64"
      ]
     },
     "execution_count": 10,
     "metadata": {},
     "output_type": "execute_result"
    }
   ],
   "source": [
    "dataset.isna().mean().round(4) * 100"
   ]
  },
  {
   "cell_type": "markdown",
   "metadata": {},
   "source": [
    "# even though there is a high percentage of missing values in Performance_ metrics,we are not going to remove those columns,since we deem it important for judging a candidate."
   ]
  },
  {
   "cell_type": "markdown",
   "metadata": {},
   "source": [
    "# going to impute missing values with model based imputation since it aint appropriate to take the mean/median here since large part of the columns have missing values.instead,imputation is done by taking those rows that have values for columns as training set,and predicting the values for missing data."
   ]
  },
  {
   "cell_type": "code",
   "execution_count": 11,
   "metadata": {},
   "outputs": [
    {
     "ename": "ImportError",
     "evalue": "cannot import name 'KNNImputer' from 'sklearn.impute' (C:\\ProgramData\\Anaconda3\\lib\\site-packages\\sklearn\\impute\\__init__.py)",
     "output_type": "error",
     "traceback": [
      "\u001b[1;31m---------------------------------------------------------------------------\u001b[0m",
      "\u001b[1;31mImportError\u001b[0m                               Traceback (most recent call last)",
      "\u001b[1;32m<ipython-input-11-3d2d0160fcb7>\u001b[0m in \u001b[0;36m<module>\u001b[1;34m\u001b[0m\n\u001b[0;32m      1\u001b[0m \u001b[1;31m# Performance UG\u001b[0m\u001b[1;33m\u001b[0m\u001b[1;33m\u001b[0m\u001b[1;33m\u001b[0m\u001b[0m\n\u001b[1;32m----> 2\u001b[1;33m \u001b[1;32mfrom\u001b[0m \u001b[0msklearn\u001b[0m\u001b[1;33m.\u001b[0m\u001b[0mimpute\u001b[0m \u001b[1;32mimport\u001b[0m \u001b[0mKNNImputer\u001b[0m\u001b[1;33m\u001b[0m\u001b[1;33m\u001b[0m\u001b[0m\n\u001b[0m",
      "\u001b[1;31mImportError\u001b[0m: cannot import name 'KNNImputer' from 'sklearn.impute' (C:\\ProgramData\\Anaconda3\\lib\\site-packages\\sklearn\\impute\\__init__.py)"
     ]
    }
   ],
   "source": [
    "# Performance UG\n",
    "from sklearn.impute import KNNImputer"
   ]
  }
 ],
 "metadata": {
  "kernelspec": {
   "display_name": "Python 3",
   "language": "python",
   "name": "python3"
  },
  "language_info": {
   "codemirror_mode": {
    "name": "ipython",
    "version": 3
   },
   "file_extension": ".py",
   "mimetype": "text/x-python",
   "name": "python",
   "nbconvert_exporter": "python",
   "pygments_lexer": "ipython3",
   "version": "3.7.4"
  }
 },
 "nbformat": 4,
 "nbformat_minor": 2
}
